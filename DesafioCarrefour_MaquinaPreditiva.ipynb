{
 "cells": [
  {
   "cell_type": "code",
   "execution_count": 15,
   "id": "29096e04",
   "metadata": {},
   "outputs": [],
   "source": [
    "import pandas as pd\n",
    "from sklearn.feature_extraction.text import  TfidfVectorizer\n",
    "from sklearn.model_selection import train_test_split\n",
    "from sklearn.linear_model import LogisticRegression\n",
    "from sklearn.pipeline import Pipeline\n",
    "from sklearn.metrics import f1_score\n",
    "from nltk.tokenize import word_tokenize"
   ]
  },
  {
   "cell_type": "code",
   "execution_count": 7,
   "id": "3676c73d",
   "metadata": {},
   "outputs": [],
   "source": [
    "data = pd.read_csv('Tweeters_MaquinaPreditiva02.csv')"
   ]
  },
  {
   "cell_type": "code",
   "execution_count": 8,
   "id": "970e60c8",
   "metadata": {},
   "outputs": [
    {
     "data": {
      "text/html": [
       "<div>\n",
       "<style scoped>\n",
       "    .dataframe tbody tr th:only-of-type {\n",
       "        vertical-align: middle;\n",
       "    }\n",
       "\n",
       "    .dataframe tbody tr th {\n",
       "        vertical-align: top;\n",
       "    }\n",
       "\n",
       "    .dataframe thead th {\n",
       "        text-align: right;\n",
       "    }\n",
       "</style>\n",
       "<table border=\"1\" class=\"dataframe\">\n",
       "  <thead>\n",
       "    <tr style=\"text-align: right;\">\n",
       "      <th></th>\n",
       "      <th>0</th>\n",
       "      <th>1</th>\n",
       "      <th>2</th>\n",
       "      <th>3</th>\n",
       "      <th>_id</th>\n",
       "      <th>_id;ID;Target</th>\n",
       "    </tr>\n",
       "  </thead>\n",
       "  <tbody>\n",
       "    <tr>\n",
       "      <th>0</th>\n",
       "      <td>Jumbo</td>\n",
       "      <td>Carrefour</td>\n",
       "      <td>Trusted Chinese e Emergency Chinese. Algum. E...</td>\n",
       "      <td>NaN</td>\n",
       "      <td>614f1c0023345224b3b6a463</td>\n",
       "      <td>614bd72669d68884901ff554;0</td>\n",
       "    </tr>\n",
       "    <tr>\n",
       "      <th>1</th>\n",
       "      <td>@Filledoctobre @krekrekr 7/7 mercado carrefour...</td>\n",
       "      <td>NaN</td>\n",
       "      <td>NaN</td>\n",
       "      <td>NaN</td>\n",
       "      <td>614f1c0023345224b3b6a464</td>\n",
       "      <td>614bd72669d68884901ff555;0</td>\n",
       "    </tr>\n",
       "    <tr>\n",
       "      <th>2</th>\n",
       "      <td>Bom ir para a encruzilhada;21/09/2021 17:27</td>\n",
       "      <td>NaN</td>\n",
       "      <td>NaN</td>\n",
       "      <td>NaN</td>\n",
       "      <td>614f1c0023345224b3b6a465</td>\n",
       "      <td>614bd72669d68884901ff557;1</td>\n",
       "    </tr>\n",
       "    <tr>\n",
       "      <th>3</th>\n",
       "      <td>CARREFOUR EST� COM 10 VAGAS PARA OPERADOR DE C...</td>\n",
       "      <td>NaN</td>\n",
       "      <td>NaN</td>\n",
       "      <td>NaN</td>\n",
       "      <td>614f1c0023345224b3b6a466</td>\n",
       "      <td>614bd72669d68884901ff558;0</td>\n",
       "    </tr>\n",
       "    <tr>\n",
       "      <th>4</th>\n",
       "      <td>Quem quiser leite hoje 00:30 na passarela do C...</td>\n",
       "      <td>NaN</td>\n",
       "      <td>NaN</td>\n",
       "      <td>NaN</td>\n",
       "      <td>614f1c0023345224b3b6a467</td>\n",
       "      <td>614bd72669d68884901ff559;0</td>\n",
       "    </tr>\n",
       "    <tr>\n",
       "      <th>5</th>\n",
       "      <td>Cad� os cornos e as putas ? https://t.co/YpB4k...</td>\n",
       "      <td>NaN</td>\n",
       "      <td>NaN</td>\n",
       "      <td>NaN</td>\n",
       "      <td>614f1c0023345224b3b6a468</td>\n",
       "      <td>614bd72669d68884901ff55a;1</td>\n",
       "    </tr>\n",
       "    <tr>\n",
       "      <th>6</th>\n",
       "      <td># �LTIMA HORA ?? Carrefour vende seu hipermerc...</td>\n",
       "      <td>NaN</td>\n",
       "      <td>NaN</td>\n",
       "      <td>NaN</td>\n",
       "      <td>614f1c0023345224b3b6a469</td>\n",
       "      <td>614bd72669d68884901ff55b;0</td>\n",
       "    </tr>\n",
       "    <tr>\n",
       "      <th>7</th>\n",
       "      <td>https://t.co/pnDrO1bdgK https://t.co/A0ngzjhnY...</td>\n",
       "      <td>NaN</td>\n",
       "      <td>NaN</td>\n",
       "      <td>NaN</td>\n",
       "      <td>614f1c0023345224b3b6a46a</td>\n",
       "      <td>614bd72669d68884901ff55c;0</td>\n",
       "    </tr>\n",
       "    <tr>\n",
       "      <th>8</th>\n",
       "      <td>vai carrefour entrega meu bira novo logo puta;...</td>\n",
       "      <td>NaN</td>\n",
       "      <td>NaN</td>\n",
       "      <td>NaN</td>\n",
       "      <td>614f1c0023345224b3b6a46b</td>\n",
       "      <td>614bd72669d68884901ff55d;1</td>\n",
       "    </tr>\n",
       "    <tr>\n",
       "      <th>9</th>\n",
       "      <td>hahagarthegzha jv na encruzilhada h� um boug q...</td>\n",
       "      <td>NaN</td>\n",
       "      <td>NaN</td>\n",
       "      <td>NaN</td>\n",
       "      <td>614f1c0023345224b3b6a46c</td>\n",
       "      <td>614bd72669d68884901ff55e;1</td>\n",
       "    </tr>\n",
       "  </tbody>\n",
       "</table>\n",
       "</div>"
      ],
      "text/plain": [
       "                                                   0           1  \\\n",
       "0                                              Jumbo   Carrefour   \n",
       "1  @Filledoctobre @krekrekr 7/7 mercado carrefour...         NaN   \n",
       "2        Bom ir para a encruzilhada;21/09/2021 17:27         NaN   \n",
       "3  CARREFOUR EST� COM 10 VAGAS PARA OPERADOR DE C...         NaN   \n",
       "4  Quem quiser leite hoje 00:30 na passarela do C...         NaN   \n",
       "5  Cad� os cornos e as putas ? https://t.co/YpB4k...         NaN   \n",
       "6  # �LTIMA HORA ?? Carrefour vende seu hipermerc...         NaN   \n",
       "7  https://t.co/pnDrO1bdgK https://t.co/A0ngzjhnY...         NaN   \n",
       "8  vai carrefour entrega meu bira novo logo puta;...         NaN   \n",
       "9  hahagarthegzha jv na encruzilhada h� um boug q...         NaN   \n",
       "\n",
       "                                                   2    3  \\\n",
       "0   Trusted Chinese e Emergency Chinese. Algum. E...  NaN   \n",
       "1                                                NaN  NaN   \n",
       "2                                                NaN  NaN   \n",
       "3                                                NaN  NaN   \n",
       "4                                                NaN  NaN   \n",
       "5                                                NaN  NaN   \n",
       "6                                                NaN  NaN   \n",
       "7                                                NaN  NaN   \n",
       "8                                                NaN  NaN   \n",
       "9                                                NaN  NaN   \n",
       "\n",
       "                        _id               _id;ID;Target  \n",
       "0  614f1c0023345224b3b6a463  614bd72669d68884901ff554;0  \n",
       "1  614f1c0023345224b3b6a464  614bd72669d68884901ff555;0  \n",
       "2  614f1c0023345224b3b6a465  614bd72669d68884901ff557;1  \n",
       "3  614f1c0023345224b3b6a466  614bd72669d68884901ff558;0  \n",
       "4  614f1c0023345224b3b6a467  614bd72669d68884901ff559;0  \n",
       "5  614f1c0023345224b3b6a468  614bd72669d68884901ff55a;1  \n",
       "6  614f1c0023345224b3b6a469  614bd72669d68884901ff55b;0  \n",
       "7  614f1c0023345224b3b6a46a  614bd72669d68884901ff55c;0  \n",
       "8  614f1c0023345224b3b6a46b  614bd72669d68884901ff55d;1  \n",
       "9  614f1c0023345224b3b6a46c  614bd72669d68884901ff55e;1  "
      ]
     },
     "execution_count": 8,
     "metadata": {},
     "output_type": "execute_result"
    }
   ],
   "source": [
    "data.head(10)"
   ]
  },
  {
   "cell_type": "code",
   "execution_count": 9,
   "id": "12f444fc",
   "metadata": {},
   "outputs": [
    {
     "data": {
      "text/plain": [
       "Index(['0', '1', '2', '3', '_id', '_id;ID;Target'], dtype='object')"
      ]
     },
     "execution_count": 9,
     "metadata": {},
     "output_type": "execute_result"
    }
   ],
   "source": [
    "data.columns"
   ]
  },
  {
   "cell_type": "code",
   "execution_count": 5,
   "id": "7717eb4b",
   "metadata": {},
   "outputs": [
    {
     "data": {
      "text/plain": [
       "(1012, 6)"
      ]
     },
     "execution_count": 5,
     "metadata": {},
     "output_type": "execute_result"
    }
   ],
   "source": [
    "data.shape"
   ]
  },
  {
   "cell_type": "code",
   "execution_count": 49,
   "id": "b2824ad2",
   "metadata": {},
   "outputs": [],
   "source": [
    "#data2=data[['0','_id;ID;Target']]\n",
    "#data2"
   ]
  },
  {
   "cell_type": "code",
   "execution_count": null,
   "id": "db6165c0",
   "metadata": {},
   "outputs": [],
   "source": [
    "data2=data2.rename(columns={'0':'Tweets','_id;ID;Target':'Target'})\n"
   ]
  },
  {
   "cell_type": "markdown",
   "id": "2e4473aa",
   "metadata": {},
   "source": [
    " CRIANDO NOVO BANCO POSTERIOR, TRATAR OS TWEETS APARTIR DA CLASSIFICAÇÃO RALIZADA BD( 0=\"SEM ÓDIO\"  ,1=\"DISCURSO ÓDIO\n"
   ]
  },
  {
   "cell_type": "code",
   "execution_count": 47,
   "id": "d58eaf75",
   "metadata": {},
   "outputs": [
    {
     "data": {
      "text/html": [
       "<div>\n",
       "<style scoped>\n",
       "    .dataframe tbody tr th:only-of-type {\n",
       "        vertical-align: middle;\n",
       "    }\n",
       "\n",
       "    .dataframe tbody tr th {\n",
       "        vertical-align: top;\n",
       "    }\n",
       "\n",
       "    .dataframe thead th {\n",
       "        text-align: right;\n",
       "    }\n",
       "</style>\n",
       "<table border=\"1\" class=\"dataframe\">\n",
       "  <thead>\n",
       "    <tr style=\"text-align: right;\">\n",
       "      <th></th>\n",
       "      <th>Tweets</th>\n",
       "      <th>Target</th>\n",
       "    </tr>\n",
       "  </thead>\n",
       "  <tbody>\n",
       "    <tr>\n",
       "      <th>0</th>\n",
       "      <td>Jumbo</td>\n",
       "      <td>614bd72669d68884901ff554;0</td>\n",
       "    </tr>\n",
       "    <tr>\n",
       "      <th>1</th>\n",
       "      <td>@Filledoctobre @krekrekr 7/7 mercado carrefour...</td>\n",
       "      <td>614bd72669d68884901ff555;0</td>\n",
       "    </tr>\n",
       "    <tr>\n",
       "      <th>2</th>\n",
       "      <td>Bom ir para a encruzilhada;21/09/2021 17:27</td>\n",
       "      <td>614bd72669d68884901ff557;1</td>\n",
       "    </tr>\n",
       "    <tr>\n",
       "      <th>3</th>\n",
       "      <td>CARREFOUR EST� COM 10 VAGAS PARA OPERADOR DE C...</td>\n",
       "      <td>614bd72669d68884901ff558;0</td>\n",
       "    </tr>\n",
       "    <tr>\n",
       "      <th>4</th>\n",
       "      <td>Quem quiser leite hoje 00:30 na passarela do C...</td>\n",
       "      <td>614bd72669d68884901ff559;0</td>\n",
       "    </tr>\n",
       "    <tr>\n",
       "      <th>5</th>\n",
       "      <td>Cad� os cornos e as putas ? https://t.co/YpB4k...</td>\n",
       "      <td>614bd72669d68884901ff55a;1</td>\n",
       "    </tr>\n",
       "    <tr>\n",
       "      <th>6</th>\n",
       "      <td># �LTIMA HORA ?? Carrefour vende seu hipermerc...</td>\n",
       "      <td>614bd72669d68884901ff55b;0</td>\n",
       "    </tr>\n",
       "    <tr>\n",
       "      <th>7</th>\n",
       "      <td>https://t.co/pnDrO1bdgK https://t.co/A0ngzjhnY...</td>\n",
       "      <td>614bd72669d68884901ff55c;0</td>\n",
       "    </tr>\n",
       "    <tr>\n",
       "      <th>8</th>\n",
       "      <td>vai carrefour entrega meu bira novo logo puta;...</td>\n",
       "      <td>614bd72669d68884901ff55d;1</td>\n",
       "    </tr>\n",
       "    <tr>\n",
       "      <th>9</th>\n",
       "      <td>hahagarthegzha jv na encruzilhada h� um boug q...</td>\n",
       "      <td>614bd72669d68884901ff55e;1</td>\n",
       "    </tr>\n",
       "  </tbody>\n",
       "</table>\n",
       "</div>"
      ],
      "text/plain": [
       "                                              Tweets  \\\n",
       "0                                              Jumbo   \n",
       "1  @Filledoctobre @krekrekr 7/7 mercado carrefour...   \n",
       "2        Bom ir para a encruzilhada;21/09/2021 17:27   \n",
       "3  CARREFOUR EST� COM 10 VAGAS PARA OPERADOR DE C...   \n",
       "4  Quem quiser leite hoje 00:30 na passarela do C...   \n",
       "5  Cad� os cornos e as putas ? https://t.co/YpB4k...   \n",
       "6  # �LTIMA HORA ?? Carrefour vende seu hipermerc...   \n",
       "7  https://t.co/pnDrO1bdgK https://t.co/A0ngzjhnY...   \n",
       "8  vai carrefour entrega meu bira novo logo puta;...   \n",
       "9  hahagarthegzha jv na encruzilhada h� um boug q...   \n",
       "\n",
       "                       Target  \n",
       "0  614bd72669d68884901ff554;0  \n",
       "1  614bd72669d68884901ff555;0  \n",
       "2  614bd72669d68884901ff557;1  \n",
       "3  614bd72669d68884901ff558;0  \n",
       "4  614bd72669d68884901ff559;0  \n",
       "5  614bd72669d68884901ff55a;1  \n",
       "6  614bd72669d68884901ff55b;0  \n",
       "7  614bd72669d68884901ff55c;0  \n",
       "8  614bd72669d68884901ff55d;1  \n",
       "9  614bd72669d68884901ff55e;1  "
      ]
     },
     "execution_count": 47,
     "metadata": {},
     "output_type": "execute_result"
    }
   ],
   "source": [
    "data2.head(10)"
   ]
  },
  {
   "cell_type": "code",
   "execution_count": 52,
   "id": "04059255",
   "metadata": {},
   "outputs": [],
   "source": [
    "#train test split\n",
    "#train, test = train_test_split(data2, test_size = 0.2, stratify = data2['Target'], random_state=21)\n",
    "\n",
    "\n",
    "#train.shape, test.shape\n"
   ]
  },
  {
   "cell_type": "code",
   "execution_count": null,
   "id": "91468c1e",
   "metadata": {},
   "outputs": [],
   "source": []
  }
 ],
 "metadata": {
  "kernelspec": {
   "display_name": "Python 3",
   "language": "python",
   "name": "python3"
  },
  "language_info": {
   "codemirror_mode": {
    "name": "ipython",
    "version": 3
   },
   "file_extension": ".py",
   "mimetype": "text/x-python",
   "name": "python",
   "nbconvert_exporter": "python",
   "pygments_lexer": "ipython3",
   "version": "3.8.8"
  }
 },
 "nbformat": 4,
 "nbformat_minor": 5
}
